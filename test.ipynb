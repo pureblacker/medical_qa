{
 "cells": [
  {
   "cell_type": "code",
   "execution_count": null,
   "id": "2af12ea2",
   "metadata": {},
   "outputs": [],
   "source": [
    "'''存放处理不同问答类型的工具函数，核心文件'''\n",
    "\n",
    "import base64\n",
    "\n",
    "import time\n",
    "import json\n",
    "from client.clientfactory import Clientfactory\n",
    "from qa.purpose_type import userPurposeType\n",
    "from pathlib import Path\n",
    "from ppt_docx.ppt_generation import generate as generate_ppt\n",
    "from ppt_docx.ppt_content import generate_ppt_content\n",
    "from ppt_docx.docx_generation import generate_docx_content as generate_docx\n",
    "from ppt_docx.docx_content import generate_docx_content\n",
    "from rag import rag_chain\n",
    "from audio.audio_extract import (\n",
    "    extract_text,\n",
    "    extract_language,\n",
    "    extract_gender,\n",
    "    get_tts_model_name,\n",
    ")\n",
    "from audio.audio_generate import audio_generate\n",
    "from model.KG.search_service import search\n",
    "from Internet.Internet_chain import InternetSearchChain\n",
    "from Graph import GraphDao\n",
    "from config.config import Config\n",
    "from qa.purpose_type import userPurposeType\n",
    "from env import get_env_value\n",
    "\n",
    "\n",
    "_dao = GraphDao()"
   ]
  },
  {
   "cell_type": "code",
   "execution_count": 1,
   "id": "4ebc56a0",
   "metadata": {},
   "outputs": [
    {
     "name": "stdout",
     "output_type": "stream",
     "text": [
      "setting environment variables: OrderedDict([('LLM_BASE_URL', 'https://dashscope.aliyuncs.com/compatible-mode/v1'), ('LLM_API_KEY', 'sk-3e06f340717e43f59adf6ba05fcb52b5'), ('MODEL_NAME', 'qwen-turbo'), ('PY_ENVIRONMENT', 'web'), ('IMAGE_GENERATE_API', ''), ('IMAGE_GENERATE_MODEL', 'cogview-3-flash'), ('IMAGE_DESCRIBE_API', ''), ('IMAGE_DESCRIBE_MODEL', 'glm-4v-flash'), ('VIDEO_GENERATE_API', ''), ('VIDEO_GENERATE_MODEL', 'cogvideox-flash')])\n",
      "12345678\n"
     ]
    }
   ],
   "source": [
    "from ke_search_service import EntitySearcher\n",
    "from typing import Callable, List, Dict, Tuple\n",
    "from config import load_nested_params\n",
    "from dotenv import load_dotenv, dotenv_values\n",
    "from Graph import GraphDao\n",
    "load_dotenv(\".env\", override=False)\n",
    "_dao= GraphDao()\n",
    "def relation_tool(entities: List[Dict] | None) -> str | None:\n",
    "    if not entities or len(entities) == 0:\n",
    "        return None\n",
    "\n",
    "    relationships = set()  # 使用集合来避免重复关系\n",
    "    relationship_match = []\n",
    "\n",
    "    searchKey = load_nested_params(\"model\", \"graph-entity\", \"search-key\")\n",
    "    # 遍历每个实体并查询与其他实体的关系\n",
    "    for entity in entities:\n",
    "        entity_name = entity[searchKey]\n",
    "        for k, v in entity.items():\n",
    "            relationships.add(f\"{entity_name} {k}: {v}\")\n",
    "\n",
    "        # 查询每个实体与其他实体的关系a-r-b\n",
    "        relationship_match.append(_dao.query_relationship_by_name(entity_name))\n",
    "        \n",
    "    # 抽取并记录每个实体与其他实体的关系\n",
    "    for i in range(len(relationship_match)):\n",
    "        for record in relationship_match[i]:\n",
    "            # 获取起始节点和结束节点的名称\n",
    "\n",
    "            start_name = record[\"r\"].start_node[searchKey]\n",
    "            end_name = record[\"r\"].end_node[searchKey]\n",
    "\n",
    "            # 获取关系类型\n",
    "            rel = type(record[\"r\"]).__name__  # 获取关系名称，比如 CAUSES\n",
    "\n",
    "            # 构建关系字符串并添加到集合，确保不会重复添加\n",
    "            relationships.add(f\"{start_name} {rel} {end_name}\")\n",
    "\n",
    "    # 返回关系集合的内容\n",
    "    if relationships:\n",
    "        return \"；\".join(relationships)\n",
    "    else:\n",
    "        return None\n",
    "\n",
    "def check_entity(question: str) -> List[Dict]:\n",
    "    code, result = EntitySearcher().search(question)\n",
    "    if code == 0:\n",
    "        return result\n",
    "    else:\n",
    "        return None\n",
    "\n",
    "# a=check_entity(\"苹果公司\")\n",
    "# print(a)\n",
    "# b=relation_tool(a)\n",
    "# print(b)"
   ]
  },
  {
   "cell_type": "code",
   "execution_count": 3,
   "id": "856ad366",
   "metadata": {},
   "outputs": [],
   "source": [
    "from client.LLMclientgeneric import LLMclientgeneric\n",
    "def KG_tool(\n",
    "    question: str,\n",
    "    history: List[List | None] = None,\n",
    "):\n",
    "    kg_info = None\n",
    "    try:\n",
    "        # 此处在使用知识图谱之前，需先检查问题的实体\n",
    "        entities = check_entity(question)\n",
    "        kg_info = relation_tool(entities)\n",
    "    except:\n",
    "        pass\n",
    "        \n",
    "    if kg_info is not None:\n",
    "        print(f\"KG_tool: \\n {kg_info}\")\n",
    "        question = f\"{question}\\n从知识图谱中检索到的信息如下{kg_info}\\n请你基于知识图谱的信息去回答,并给出知识图谱检索到的信息\"\n",
    "\n",
    "    response = LLMclientgeneric().chat_with_ai_stream(question, history)\n",
    "    return response"
   ]
  },
  {
   "cell_type": "code",
   "execution_count": 4,
   "id": "ee26ecba",
   "metadata": {},
   "outputs": [
    {
     "name": "stdout",
     "output_type": "stream",
     "text": [
      "KG_tool: \n",
      " 广谱抗生素 好评药品 糖尿病；糖尿病 治疗方法 支持性治疗；腓肠神经活检 诊断检查 糖尿病；急性女阴溃疡 并发症 糖尿病；糖尿 症状 CNS；脑血管损害 并发症 糖尿病；急性胰腺炎 并发症 糖尿病；血管性帕金森综合征 并发症 糖尿病；卡他莫拉菌感染 症状 糖尿；糖尿病 并发症 糖尿病乳酸性酸中毒；精神障碍 并发症 糖尿病；白癜风 并发症 糖尿病；胰腺脑病综合征 症状 糖尿；糖尿病 症状 烦渴多饮；珠蛋白生成障碍性贫血 并发症 糖尿病；胰痈 并发症 糖尿病；贝特类 好评药品 糖尿病；糖尿病 好评药品 天麦消渴片；阿司匹林 好评药品 糖尿病；心烦 症状 糖尿病；红斑性肢痛症 并发症 糖尿病；糖尿病足 症状 糖尿；糖尿病 常用药品 降糖宁胶囊；低血糖 并发症 糖尿病；自身免疫性胰腺炎 并发症 糖尿病；遗传性肥胖 症状 糖尿；糖尿病 并发症 HIV相关呼吸道感染；胃动过速 症状 糖尿病；乏力 症状 糖尿病；ACE抑制剂 好评药品 糖尿病；反复眩晕发作 症状 糖尿病；老年肺炎 并发症 糖尿病；糖尿病 预防方法: 日常预防\n",
      "1、一级预防：树立正确的进食观，采取合理的生活方式。糖尿病虽存在一定的遗传因素，但关键是生活因素和环境因素。热量过度摄入、营养过剩、肥胖、缺少运动是发病的重要原因。热量摄入适当，低盐、低糖、低脂、高纤维、维生素充足，是最佳的饮食配伍。\n",
      "2、二级预防：定期测量血糖，以尽早发现无症状性糖尿病。应该将血糖测定列入中老年常规的体检项目，即使一次正常者，仍要定期测定。凡有糖尿病蛛丝马迹可寻者，如有皮肤感觉异常、性功能减退、视力不佳、多尿、白内障等，更要及时去测定和仔细鉴别，以期尽早诊断，争得早期治疗的可贵时间。\n",
      "3、三级预防：糖尿病人很容易并发其他慢性病，患者多因并发症而危及生命。因此，要对糖尿病慢性合并症加强监测，做到早期发现，早期预防，而到了晚期，疗效往往不佳。早期诊断和早期治疗，常可预防并发症的发生，使病人能长期过上接近正常人的生活。\n",
      "健康教育\n",
      "1、由于约有半数以上的早期患者并无症状或症状轻微，常不能及时确诊和得到防治，因而要大力开展糖尿病宣传健康教育，让已确诊的患者了解糖尿病并逐渐熟悉饮食，运动，用药和尿糖、血糖监测等基本措施的综合治疗原则。\n",
      "2、配合医务人员提高控制质量，让>50岁的对象，尤其是前述高危对象，每年做一次餐后2小时的血糖筛选检查，使无症状的患者尽多尽早得到确诊和防治。教育内容中尚需包括长期坚持饮食治疗的重要意义，尿糖和血糖仪检测方法，必须注意胰岛素治疗者，还应学会无菌注射法，低血糖反应及初步处理等。；老年人低钠血症 症状 糖尿；嗜银性增强 症状 糖尿病；胰石症 症状 糖尿；子满 症状 糖尿；无症状性脑梗死 并发症 糖尿病；进行性脂肪营养不良 症状 糖尿；生殖器念珠菌病 并发症 糖尿病；胰腺神经肽()分泌增高 症状 糖尿病；饱胀 症状 糖尿病；糖尿病 好评药品 盐酸二甲双胍片；免疫介导性肾脏病 症状 糖尿；烧心 症状 糖尿病；动脉粥样硬化 并发症 糖尿病；便秘 症状 糖尿病；持续性蛋白尿 症状 糖尿病；变形杆菌肺炎 症状 糖尿；血糖测定 诊断检查 糖尿病；家族性载脂蛋白B100缺陷症 症状 糖尿；老年人高渗性非酮症糖尿病昏迷 症状 糖尿；高脂血症 症状 糖尿；逼尿肌收缩无力 症状 糖尿病；糖尿病 宜吃 茄子；胰高血糖素瘤 症状 糖尿；肾病 并发症 糖尿病；肾小球系膜区增宽 症状 糖尿病；胰岛淀粉样蛋白沉积 诊断检查 糖尿病；蛔虫性急性胰腺炎 并发症 糖尿病；神经纤维减少及破裂 症状 糖尿病；糖尿病 并发症 慢性胰腺炎；肾小球毛细血管基膜增厚 症状 糖尿病；糖尿病 宜吃 青椒；糖尿病 推荐食谱 枸杞核桃粥；呕吐 症状 糖尿病；代谢综合征 并发症 糖尿病；高泌乳素血症 症状 糖尿；老年人糖尿病乳酸性中毒 症状 糖尿；腹胀 症状 糖尿病；假性黑棘皮病 并发症 糖尿病；膀胱感觉功能不全 症状 糖尿病；血液黏度增高 症状 糖尿病；糖尿病 并发症 高脂血症；肌强直性肌病 并发症 糖尿病；外周神经 并发症 糖尿病；感染酮症酸中毒 并发症 糖尿病；抗癌剂 好评药品 糖尿病；糖尿病 诊断检查 血清乙酰乙酸；肢端肥大症 并发症 糖尿病；高尿酸血症 症状 糖尿；磺酰脲类药物 好评药品 糖尿病；被动 症状 糖尿病；小儿糖尿病 症状 糖尿；腹泻 症状 糖尿病；糖尿病 并发症 心肌梗死；糖尿病 好评药品 渴乐宁胶囊；大血管和微血管病变 并发症 糖尿病；皮质激素 好评药品 糖尿病；糖尿病 推荐食谱 山楂核桃茶；他汀类药物 好评药品 糖尿病；皮肤白斑 并发症 糖尿病；升高的(α)水平 症状 糖尿病；三高症 并发症 糖尿病；高渗性非酮症性糖尿病昏迷 症状 糖尿；糖尿病 推荐食谱 翡翠莲藕片；腹痛 症状 糖尿病；神经病变 并发症 糖尿病；外阴瘙痒不适 症状 糖尿病；糖尿病合并低血糖 症状 糖尿；胰岛素治疗 好评药品 糖尿病；牙龈炎 并发症 糖尿病；小儿急性胰腺炎 症状 糖尿；线粒体脑肌病 症状 糖尿；外阴瘙痒 症状 糖尿病；生长激素释放抑制素瘤 症状 糖尿；高乳酸血症 并发症 糖尿病；获得性高脂蛋白血症 症状 糖尿；顽固性腹泻 症状 糖尿病；小儿肢端肥大症和垂体性巨人症 症状 糖尿；糖尿病 病因: Ⅰ型或Ⅱ型糖尿病均存在明显的遗传异质性。糖尿病存在家族发病倾向，1/4～1/2患者有糖尿病家族史。临床上至少有60种以上的遗传综合征可伴有糖尿病。Ⅰ型糖尿病有多个DNA位点参与发病，其中以HLA抗原基因中DQ位点多态性关系最为密切。\n",
      "在Ⅱ型糖尿病已发现多种明确的基因突变，如胰岛素基因、胰岛素受体基因、葡萄糖激酶基因、线粒体基因等。\n",
      "Ⅰ型糖尿病患者存在免疫系统异常，在某些病毒如柯萨奇病毒，风疹病毒，腮腺病毒等感染后导致自身免疫反应，破坏胰岛素β细胞。\n",
      "进食过多，体力活动减少导致的肥胖是Ⅱ型糖尿病最主要的环境因素，使具有Ⅱ型糖尿病遗传易感性的个体容易发病。；高脂蛋白血症Ⅳ型 并发症 糖尿病；尿量增加 症状 糖尿病；糖耐量异常 症状 糖尿病；糖尿病 好评药品 米格列醇片；肾孟肾炎 并发症 糖尿病；外阴白色病变 症状 糖尿；老年人低血糖症 症状 糖尿；糖尿病 治愈概率: 药物可控制，不易根治；寒痹 并发症 糖尿病；空腹血糖＞140 mg/dL 症状 糖尿病；肾性失镁 症状 糖尿；尿路感染 症状 糖尿；糖尿病 好评药品 盐酸二甲双胍缓释片；β受体阻滞剂 好评药品 糖尿病；Ⅲ期缺失 症状 糖尿病；胃动过缓 症状 糖尿病；胰腺囊性纤维性变 并发症 糖尿病；全身搔痒的一部分 症状 糖尿病；胰岛纤维化 并发症 糖尿病；白内障 并发症 糖尿病；焦磷酸钙沉积病 并发症 糖尿病；老年性癫痫 症状 糖尿；小儿共济失调毛细血管扩张综合征 症状 糖尿；糖尿病 并发症 隐匿性肝脓肿；糖尿病 症状 多饮；糖尿病 并发症 糖尿病性神经病；妊娠合并皮质醇增多症 症状 糖尿；内分泌失调 并发症 糖尿病；氨基胍 好评药品 糖尿病；血脂异常 症状 糖尿病；磺脲类药物 好评药品 糖尿病；糖尿病 并发症 高血压；抗-HCVAg阳性 并发症 糖尿病；中毒性肾病 症状 糖尿；糖尿病 诊断检查 血糖仪试纸带法；迟发性皮肤卟啉病 并发症 糖尿病；老年人急性胰腺炎 并发症 糖尿病；小儿胱氨酸病 症状 糖尿；含糖量较高 症状 糖尿病；糖尿病 推荐食谱 木耳核桃炖豆腐；小儿肥胖 并发症 糖尿病；视网膜动脉阻塞 症状 糖尿；小儿共济失调毛细血管扩张综合征 并发症 糖尿病；神经系统并发症 并发症 糖尿病；糖尿病 症状 多尿；糖尿病 并发症 自身免疫性肝炎；糖尿病伴发的葡萄膜炎 症状 糖尿；吞咽困难 症状 糖尿病；糖尿病 推荐食谱 五谷糙米粥；手足麻木 症状 糖尿病；糖尿病 症状 尿糖；糖尿病 并发症 尿毒症；低血糖综合征 并发症 糖尿病；人免疫缺陷病毒感染性肾损害 并发症 糖尿病；无髓纤维增生 症状 糖尿病；头痛 症状 糖尿病；绝经期关节炎 并发症 糖尿病；糖尿病 并发症 缺血性视神经病变；晨僵 症状 糖尿病；糖尿病 好评药品 玉泉颗粒；胰腺脓肿 并发症 糖尿病；糖尿病 名称: 糖尿病；醋水杨酸 好评药品 糖尿病；糖尿病 描述: 糖尿病是一种比较常见的内分泌代谢性疾病。该病发病原因主要是由于胰岛素分泌不足，以及胰升高血糖素不适当地分泌过多所引起。多见于40岁以上喜食甜食而肥胖的病人，城市多于农村，常有家族史，故与遗传有关。少数病人与病毒感染和自身免疫反应有关。主要表现为烦渴、多饮、多尿、多食、乏力、消瘦等症状。生命的常见病，伴发高血压、冠心病、高脂血症等，严重时危及生命。\n",
      "中医学认为，肝主疏泄，关系人体接收机的升降与调畅，肝气郁滞则气机升降输布紊乱，肝失疏泄则血糖等精微物质不能随清阳之气输布于周身而郁滞于血中，出现高血糖或精微物质的输布紊乱，反见血糖升高，进一步导致血脂、蛋白等其它精微物质紊乱，引起其他合并症，治疗以疏肝调气为主，顺肝条达之性以恢复其生理功能，肝气条达，气机调畅，精微得以输布，糖被利用而血糖自然下降。\n",
      "另外，因糖尿病的发生和饮食有关，饮食控制的好坏直接影响着治疗的效果。再就是配合运动，注意调摄情志，再适当的配合中药治疗会取得良好的治疗效果。\n",
      " ；新生儿高血糖症 症状 糖尿；小儿糖尿病肾病 症状 糖尿；糖尿病 症状 血糖升高；糖尿病 并发症 心房扑动；糖尿病 并发症 遗传性血色素沉着症；糖尿病 症状 消瘦；糖尿病 症状 血糖值升高；糖尿病 并发症 糖尿病酮症酸中毒；慢性肾盂肾炎 并发症 糖尿病；高渗性利尿 症状 糖尿病；毒性弥漫性甲状腺肿 症状 糖尿；糖尿病 忌吃 糖桂花；小儿骨肉瘤 并发症 糖尿病；胰高糖素瘤综合征 症状 糖尿；高胆固醇血症 并发症 糖尿病；假性甲状旁腺功能减退症 并发症 糖尿病；糖尿病性肾病 症状 糖尿；项痈 症状 糖尿；糖尿 label: 症状；动脉硬化性闭塞症 症状 糖尿；肠道菌群失调症 并发症 糖尿病；糖尿病 好评药品 消渴平片；燥邪犯肺 并发症 糖尿病；依普利酮 好评药品 糖尿病；单纯性肥胖 并发症 糖尿病；糖尿病 诊断检查 胰岛素；糖尿 名称: 糖尿；癫痫 并发症 糖尿病；糖尿病 推荐食谱 黄豆莲藕排骨汤；糖尿病 治疗方法 药物治疗；糖尿病 宜吃 芹菜；脂性渐进性坏死 症状 糖尿；糖尿病 并发症 脂性渐进性坏死；急性膀胱炎 并发症 糖尿病；尿蛋白定性 诊断检查 糖尿病；游动迟缓 症状 糖尿病；糖尿病 并发症 厌氧链球菌性肌炎；单纯性外阴炎 症状 糖尿；糖尿病 并发症 痛风；巨人症与肢端肥大症 并发症 糖尿病；高血脂 症状 糖尿；糖尿病 忌吃 冰糖；矢气频频 症状 糖尿病；慢性皮肤粘膜念珠菌病 症状 糖尿；糖尿病 所属科室 内分泌科；糖尿病 并发症 非ST段抬高心肌梗死；糖尿病 好评药品 降糖宁胶囊；不安全感 症状 糖尿病；高泌乳素血症 并发症 糖尿病；高渗性昏迷 并发症 糖尿病；妊娠合并糖尿病 症状 糖尿；绝经期尿路感染 并发症 糖尿病；糖尿病 忌吃 麦芽糖；家族性混合型高脂血症 症状 糖尿；免疫抑制疗法 好评药品 糖尿病；血(α)常增高 症状 糖尿病；乳酸代谢缺陷 并发症 糖尿病；糖尿病 推荐食谱 紫菜芙蓉汤；分水岭区脑梗死 并发症 糖尿病；遗传性血色病 症状 糖尿；小儿常染色体隐性小脑性共济失调 并发症 糖尿病；新生儿低钙血症 症状 糖尿；持续性心动过速 症状 糖尿病；胃肠运动功能障碍 并发症 糖尿病；冠心病 并发症 糖尿病；③β受体阻滞剂 好评药品 糖尿病；糖尿病 并发症 慢性皮肤念珠菌病；糖尿病肾病 症状 糖尿；甲亢合并妊娠 并发症 糖尿病；糖尿病 并发症 肺毛霉菌病；肥胖 症状 糖尿病；糖尿病 诊断检查 尿糖（GLU）；妊娠期糖尿病 症状 糖尿；脑疝 症状 糖尿病；糖尿病 好评药品 十八味诃子利尿胶囊；铊中毒 症状 糖尿；肾炎 并发症 糖尿病；食少 症状 糖尿病；老年人高脂血症 症状 糖尿；胰石症 并发症 糖尿病；糖尿病乳酸性酸中毒 症状 糖尿；水杨酸盐 好评药品 糖尿病；肾虚 并发症 糖尿病；丙酮酸氧化障碍 并发症 糖尿病；糖尿病 诊断检查 空腹血葡萄糖；嗳气 症状 糖尿病；糖尿病 治疗时长: 需要终身间歇性治疗；糖尿病 常用药品 盐酸二甲双胍片；幼稚 症状 糖尿病；骨肉瘤 并发症 糖尿病；失眠抑郁 并发症 糖尿病；关节活动障碍 症状 糖尿病；视神经乳头水肿及视盘水肿 并发症 糖尿病；糖尿病 推荐食谱 五豆补益糙米粥；小儿嗜铬细胞瘤 症状 糖尿；二羟胆骨化醇 好评药品 糖尿病；糖尿病 易得人群: 肥胖人群，有糖尿病家族史人群；正常出汗 症状 糖尿病；小儿槭糖尿病 症状 糖尿；糖尿病 诊断检查 胰岛素原；慢性肾功能衰竭 症状 糖尿；糖尿病 症状 餐后血糖高；密度改变 症状 糖尿病；皮肤穿入性毛囊和毛囊周角化病 并发症 糖尿病；老年人糖尿病 症状 糖尿；牙科病 并发症 糖尿病；疼挛 症状 糖尿病；烟碱类药物 好评药品 糖尿病；糖尿病 症状 气阴两虚；慢性黏膜皮肤念珠菌病 并发症 糖尿病；妊娠合并白血病 并发症 糖尿病；糖尿病 好评药品 消渴灵片；心律失常 症状 糖尿病；糖尿病 诊断检查 极低密度脂蛋白胆固醇（VLDL-c，VLDL-ch ）；老年性哮喘 并发症 糖尿病；肌抵抗 症状 糖尿病；小儿弹性假黄瘤 并发症 糖尿病；糖尿病 症状 口渴；甲状腺结节钙化 并发症 糖尿病；糖尿病 label: 疾病；利拉鲁肽 好评药品 糖尿病；糖尿病和高血压 并发症 糖尿病；糖尿病 好评药品 抗饥消渴片；恶心 症状 糖尿病；膀胱嗜铬细胞瘤 症状 糖尿；急性胆源性胰腺炎 并发症 糖尿病；卓－艾氏综合征 症状 糖尿；绝经期尿失禁 症状 糖尿；眼底检标查 诊断检查 糖尿病；体温过低 症状 糖尿；糖尿病 并发症 坏死性筋膜炎；糖尿病 诊断检查 血糖；小儿慢性胰腺炎 症状 糖尿；糖尿病 诊断检查 抗胰岛素受体抗体；婴儿腹部远心性脂肪营养不良 并发症 糖尿病；联合免疫缺陷病 并发症 糖尿病；高尿酸血症肾病 并发症 糖尿病；肾脏 并发症 糖尿病；恩格列净 好评药品 糖尿病；艾滋病 并发症 糖尿病；吐失 并发症 糖尿病；脊髓病 并发症 糖尿病；血色病 并发症 糖尿病；新生儿低血糖症与高血糖症 症状 糖尿；胰胆汁综合征 症状 糖尿；糖尿病 并发症 胱氨酸病；卓－艾氏综合征 并发症 糖尿病；糖代谢紊乱 症状 糖尿病；胰腺癌 并发症 糖尿病；胰石病 并发症 糖尿病；糖尿病 诊断检查 口服葡萄糖耐量试验；眼底病变 并发症 糖尿病；皮肤表面的值低下 症状 糖尿病；下丘脑多汗症 症状 糖尿；意识不清 症状 糖尿病；口糜 并发症 糖尿病；糖尿病 好评药品 伏格列波糖片；老年人甲状腺功能亢进症 并发症 糖尿病；胰岛素抵抗与代谢综合征 症状 糖尿；抗生素雌激素 好评药品 糖尿病；糖尿病 忌吃 蜂蜜；高甘油三酯血症 并发症 糖尿病；性障碍 症状 糖尿；糖尿病 宜吃 西葫芦；家族性异常β脂蛋白血症 症状 糖尿；黄斑囊样水肿 症状 糖尿；慢性胰腺炎 症状 糖尿\n",
      "<openai.OpenAI object at 0x0000016849BA64A0> qwen-turbo\n",
      "<openai.Stream object at 0x000001684A01FB50>\n"
     ]
    }
   ],
   "source": [
    "answer = KG_tool(question='介绍糖尿病')\n",
    "print(answer)"
   ]
  },
  {
   "cell_type": "code",
   "execution_count": 5,
   "id": "918ebe0d",
   "metadata": {},
   "outputs": [
    {
     "data": {
      "text/plain": [
       "openai.Stream"
      ]
     },
     "execution_count": 5,
     "metadata": {},
     "output_type": "execute_result"
    }
   ],
   "source": [
    "type(answer)"
   ]
  },
  {
   "cell_type": "code",
   "execution_count": 6,
   "id": "03c4c788",
   "metadata": {},
   "outputs": [
    {
     "name": "stdout",
     "output_type": "stream",
     "text": [
      "糖尿病是一种常见的内分泌代谢性疾病，其发病的主要原因是胰岛素分泌不足以及胰升高血糖素分泌过多。这种疾病多见于40岁以上的肥胖人群，且常有家族史，因此与遗传因素密切相关。部分病例可能与病毒感染和自身免疫反应有关。\n",
      "\n",
      "### 症状：\n",
      "糖尿病的主要症状包括烦渴、多饮、多尿、多食、乏力、消瘦等。此外，还可能出现尿糖升高、血糖值升高等现象。\n",
      "\n",
      "### 病因：\n",
      "- **Ⅰ型糖尿病**：存在免疫系统异常，在某些病毒感染（如柯萨奇病毒、风疹病毒等）后引发自身免疫反应，破坏胰岛素β细胞。\n",
      "- **Ⅱ型糖尿病**：主要由遗传易感性和环境因素共同作用导致，例如进食过多、体力活动减少引起的肥胖。\n",
      "\n",
      "### 并发症：\n",
      "糖尿病可以引发多种并发症，包括但不限于：\n",
      "- 大血管和微血管病变\n",
      "- 心肌梗死\n",
      "- 肾病\n",
      "- 神经病变\n",
      "- 视网膜病变\n",
      "- 高血压\n",
      "- 高脂血症\n",
      "\n",
      "### 治疗方法：\n",
      "1. **药物治疗**：常用的药物包括盐酸二甲双胍片、消渴平片、十八味诃子利尿胶囊等。\n",
      "2. **生活方式调整**：包括饮食控制、适量运动及情绪调节。\n",
      "3. **中医治疗**：采用疏肝调气的方法来改善症状。\n",
      "\n",
      "### 预防方法：\n",
      "1. **一级预防**：树立正确的进食观念，采取健康的生活方式。\n",
      "2. **二级预防**：定期测量血糖，尽早发现无症状性糖尿病。\n",
      "3. **三级预防**：加强对慢性并发症的监测，做到早发现、早治疗。\n",
      "\n",
      "### 好评药品：\n",
      "一些被推荐用于治疗糖尿病的药物包括：\n",
      "- 盐酸二甲双胍缓释片\n",
      "- 渴乐宁胶囊\n",
      "- 天麦消渴片\n",
      "- 利拉鲁肽\n",
      "\n",
      "以上信息来源于知识图谱中的相关内容。\n"
     ]
    },
    {
     "data": {
      "text/plain": [
       "str"
      ]
     },
     "execution_count": 6,
     "metadata": {},
     "output_type": "execute_result"
    }
   ],
   "source": [
    "history = []\n",
    "bot_response = \"\"\n",
    "for chunk in answer:\n",
    "    bot_response = bot_response + (chunk.choices[0].delta.content or \"\")\n",
    "    if chunk.choices[0].finish_reason == \"stop\":\n",
    "        break\n",
    "    history.append(chunk)\n",
    "print(bot_response)\n",
    "type(bot_response)"
   ]
  },
  {
   "cell_type": "code",
   "execution_count": null,
   "id": "0ba26c2b",
   "metadata": {},
   "outputs": [],
   "source": []
  }
 ],
 "metadata": {
  "kernelspec": {
   "display_name": "Python 3",
   "language": "python",
   "name": "python3"
  },
  "language_info": {
   "codemirror_mode": {
    "name": "ipython",
    "version": 3
   },
   "file_extension": ".py",
   "mimetype": "text/x-python",
   "name": "python",
   "nbconvert_exporter": "python",
   "pygments_lexer": "ipython3",
   "version": "3.10.0"
  }
 },
 "nbformat": 4,
 "nbformat_minor": 5
}
